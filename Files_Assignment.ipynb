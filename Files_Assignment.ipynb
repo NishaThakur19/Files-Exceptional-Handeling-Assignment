{
  "nbformat": 4,
  "nbformat_minor": 0,
  "metadata": {
    "colab": {
      "provenance": [],
      "authorship_tag": "ABX9TyON9q/SEvY6ChYEZa6HjC26",
      "include_colab_link": true
    },
    "kernelspec": {
      "name": "python3",
      "display_name": "Python 3"
    },
    "language_info": {
      "name": "python"
    }
  },
  "cells": [
    {
      "cell_type": "markdown",
      "metadata": {
        "id": "view-in-github",
        "colab_type": "text"
      },
      "source": [
        "<a href=\"https://colab.research.google.com/github/NishaThakur19/Files-Exceptional-Handeling-Assignment/blob/main/Files_Assignment.ipynb\" target=\"_parent\"><img src=\"https://colab.research.google.com/assets/colab-badge.svg\" alt=\"Open In Colab\"/></a>"
      ]
    },
    {
      "cell_type": "code",
      "execution_count": null,
      "metadata": {
        "id": "w5KIjShGyAC9"
      },
      "outputs": [],
      "source": []
    },
    {
      "cell_type": "markdown",
      "source": [
        "#Files, exceptional handling, logging and memory management"
      ],
      "metadata": {
        "id": "cIU_9lp1yGNR"
      }
    },
    {
      "cell_type": "markdown",
      "source": [],
      "metadata": {
        "id": "RWHRH4eryTOP"
      }
    },
    {
      "cell_type": "markdown",
      "source": [
        "1.\tWhat is the difference between interpreted and compiled languages?\n",
        "\n",
        "●\tAns:-🔹 Compiled Languages\n",
        "\n",
        "How it works: The entire code is translated into machine code by a compiler before execution.\n",
        "Examples: C, C++, Rust, Go Pros:\n",
        "●\tFaster execution after compilation\n",
        "●\tBetter performance for large programs Cons:\n",
        "●\tSlower development cycle (needs recompilation after changes)\n",
        "●\tPlatform-dependent (needs different binaries for different systems)\n",
        "🔹 Interpreted Languages\n",
        "\n",
        "How it works: The code is executed line-by-line by an interpreter, without converting it into machine code ahead of time.\n",
        "Examples: Python, JavaScript, PHP, Ruby Pros:\n",
        "●\tEasier to debug and test\n",
        "●\tCross-platform and more flexible Cons:\n",
        "●\tSlower execution compared to compiled languages\n",
        "●\tCan be less efficient for heavy computation\n",
        "\n",
        "\n",
        "2.\tWhat is exception handling in Python?\n",
        "\n",
        "●\tAns:- Exception handling in Python is a way to manage errors or unexpected situations that occur during program execution, so your code doesn’t crash.\n",
        "\n",
        "\n",
        "3.\tWhat is the purpose of the finally block in exception handling?\n",
        "\n",
        "●\tAns:- 🔹 Purpose of the finally Block in Python Exception Handling:\n",
        "\n",
        "The finally block is used to define code that must run no matter what — whether an exception was raised or not.\n",
        "\n",
        "\n",
        "4.\tWhat is logging in Python?\n",
        "\n",
        "●\tAns:- Logging in Python is the process of tracking events that happen when your program runs. It helps you debug, monitor, and maintain your code by recording messages at different severity levels.\n",
        "\n",
        "\n",
        "5.\tWhat is the significance of the   del\tmethod in Python?\n",
        "\n",
        "●\tAns:-The del method in Python is a destructor — a special method that's automatically called when an object is about to be destroyed.\n",
        "✅ Purpose:\n",
        "\n",
        "●\tTo perform cleanup operations, like:\n",
        "●\tClosing files or network connections\n",
        "●\tReleasing external resources\n",
        "●\tLogging the deletion of an object\n",
        "\n",
        "\n",
        "6.\tWhat is the difference between import and from ... import in Python?\n",
        "\n",
        "●\tAns:- 🔹 Difference between import and from ... import in Python\n",
        "\n",
        "Both are used to include external modules or specific components into your Python code, but they differ in how they bring them in.\n",
        "✅ 1. import module\n",
        "\n",
        "●\tImports the entire module.\n",
        "●\tYou access everything using the module name as a prefix.\n",
        "🛠 Example:\n",
        "\n",
        "import math\n",
        "\n",
        "print(math.sqrt(25))\t# Access via math.sqrt\n",
        "\n",
        "✅ 2. from module import something\n",
        "\n",
        "●\tImports specific functions, classes, or variables directly.\n",
        "●\tYou can use them without the module name prefix.\n",
        "🛠 Example:\n",
        "\n",
        "from math import sqrt\n",
        "\n",
        "print(sqrt(25))\t# No need for math.sqrt\n",
        "\n",
        "\n",
        "\n",
        "\n",
        "7.\tHow can you handle multiple exceptions in Python?\n",
        "\n",
        "●\tAns:- 🔹 How to Handle Multiple Exceptions in Python\n",
        "●\tPython allows you to handle different types of exceptions separately or together using the try-except block.\n",
        "✅ Method 1: Multiple except Blocks (Best for Specific Handling)\n",
        "\n",
        "try:\n",
        "x = int(input(\"Enter a number: \")) y = 10 / x\n",
        "except ValueError:\n",
        "print(\"Invalid input! Please enter a number.\") except ZeroDivisionError:\n",
        "print(\"Cannot divide by zero.\")\n",
        "\n",
        "\n",
        "\n",
        "\n",
        "\n",
        "✅ Method 2: Single except Block with a Tuple\n",
        "\n",
        "try:\n",
        "x = int(input(\"Enter a number: \")) y = 10 / x\n",
        "except (ValueError, ZeroDivisionError):\n",
        "print(\"An error occurred: either invalid input or division by zero.\")\n",
        "\n",
        "\n",
        "\n",
        "\n",
        "\n",
        "✅ Method 3: Catching All Exceptions (Not Recommended Unless Logging)\n",
        "\n",
        "try:\n",
        "- risky code except Exception as e:\n",
        "print(f\"Unexpected error: {e}\")\n",
        "\n",
        "\n",
        "\n",
        "\n",
        "8.\tWhat is the purpose of the with statement when handling files in Python?\n",
        "\n",
        "●\tAns:- 🔹 Purpose of the with Statement in File Handling (Python) The with statement in Python is used to simplify file handling by ensuring that resources like files are automatically closed after use — even if an error occurs.\n",
        "✅ Why Use with?\n",
        "\n",
        "●\tAutomatically closes the file\n",
        "●\tMakes code cleaner and more readable\n",
        "●\tReduces the risk of forgetting to close the file (which can cause memory leaks or file locks)\n",
        "\n",
        "\n",
        "9.\tWhat is the difference between multithreading and multiprocessing?\n",
        "\n",
        "-Ans:- 🔹 Difference Between Multithreading and Multiprocessing in Python Both are techniques for achieving concurrent execution, but they differ in how they use system resources.\n",
        "✅ 1. Multithreading\n",
        "\n",
        "●\tUses multiple threads within a single process\n",
        "●\tThreads share the same memory space\n",
        "●\tBest for I/O-bound tasks (e.g., file handling, network operations)\n",
        "🧠 Example Use:\n",
        "\n",
        "import threading\n",
        "\n",
        "def print_numbers(): for i in range(5):\n",
        "print(i)\n",
        "\n",
        "thread = threading.Thread(target=print_numbers) thread.start()\n",
        "\n",
        "✅ 2. Multiprocessing\n",
        "\n",
        "●\tUses multiple processes\n",
        "●\tEach process has its own memory space\n",
        "●\tBest for CPU-bound tasks (e.g., data crunching, machine learning)\n",
        "🧠 Example Use:\n",
        "import multiprocessing def print_numbers():\n",
        "for i in range(5): print(i)\n",
        "\n",
        "process = multiprocessing.Process(target=print_numbers) process.start()\n",
        "\n",
        "\n",
        "\n",
        "\n",
        "10.\tWhat are the advantages of using logging in a program?\n",
        "\n",
        "●\tAns:- 🔹 Advantages of Using Logging in a Python Program\n",
        "\n",
        "Logging is much more powerful and flexible than using print() statements. Here's why it's a best practice in real-world programming:\n",
        "✅ 1. Tracks Program Execution\n",
        "\n",
        "●\tLogs help you monitor the flow of your program.\n",
        "●\tYou can trace what happened and when — useful for debugging and auditing.\n",
        "✅ 2. Captures Errors and Warnings\n",
        "\n",
        "●\tAutomatically record exceptions, warnings, or unexpected behavior.\n",
        "●\tHelps in identifying and fixing bugs quickly.\n",
        "✅ 3. Customizable Output Levels\n",
        "\n",
        "●\tSupports different severity levels: DEBUG, INFO, WARNING, ERROR, CRITICAL.\n",
        "●\tYou can filter logs based on importance.\n",
        "✅ 4. Saves to Files\n",
        "\n",
        "●\tLogs can be stored in files, making it easy to review later — especially helpful in production environments.\n",
        "\n",
        "\n",
        "11.\tWhat is memory management in Python?\n",
        "\n",
        "●\tAns:- Memory management in Python refers to the process of allocating and releasing memory to ensure efficient use of resources while the program runs. Python handles memory management automatically through its garbage collection mechanism, but it also provides developers with tools to manage memory more effectively.\n",
        "1.\tAutomatic Memory Management (Garbage Collection)\n",
        "●\tPython uses automatic garbage collection to free up memory that is no longer in use (i.e., when objects are no longer referenced).\n",
        "●\tThe garbage collector identifies and removes objects that are not reachable, preventing memory leaks.\n",
        "2.\tMemory Allocation\n",
        "●\tWhen a variable or object is created, memory is allocated for it.\n",
        "●\tPython manages this allocation using the heap (for dynamically created objects) and the stack (for function calls and local variables).\n",
        "3.\tReference Counting\n",
        "●\tEach object in Python has a reference count that tracks the number of references to the object.\n",
        "●\tWhen the reference count drops to zero (i.e., no more references), the object is automatically deallocated.\n",
        "4.\tGarbage Collection (GC)\n",
        "●\tPython uses cyclic garbage collection to handle circular references (objects referencing each other).\n",
        "The gc module provides developers the ability to interact with the garbage collector if needed.\n",
        "\n",
        "\n",
        "12.\tWhat are the basic steps involved in exception handling in Python?\n",
        "\n",
        "●\tAns:- 🔹 Basic Steps Involved in Exception Handling in Python Exception handling in Python helps you manage errors gracefully and prevent your program from crashing unexpectedly.\n",
        "✅ 1. Use try Block\n",
        "\n",
        "●\tWrap the code that might raise an exception inside a try block.\n",
        "\n",
        "try:\n",
        "# Risky code here x = 10 / 0\n",
        "\n",
        "\n",
        "\n",
        "\n",
        "✅ 2. Add except Block(s)\n",
        "\n",
        "●\tCatch specific or general exceptions and define what to do when they occur.\n",
        "\n",
        "except ZeroDivisionError:\n",
        "print(\"You can't divide by zero!\")\n",
        "\n",
        "\n",
        "\n",
        "\n",
        "\n",
        "✅ 3. (Optional) Use else Block\n",
        "\n",
        "●\tExecutes only if no exceptions occur in the try block.\n",
        "\n",
        "else:\n",
        "print(\"No errors occurred.\")\n",
        "\n",
        "\n",
        "\n",
        "\n",
        "\n",
        "✅ 4. (Optional) Use finally Block\n",
        "\n",
        "●\tExecutes no matter what, whether an exception occurs or not (often used for cleanup).\n",
        "finally:\n",
        "print(\"Execution completed.\")\n",
        "\n",
        "\n",
        "\n",
        "\n",
        "13.\tWhy is memory management important in Python?\n",
        "\n",
        "●\tAns:- Memory management is crucial in Python to ensure that your program runs efficiently, smoothly, and without crashing due to running out of memory. Even though Python handles memory automatically, understanding and managing it helps write better, more scalable code.\n",
        "✅ 1. Prevents Memory Leaks\n",
        "\n",
        "●\tProper memory handling ensures that unused objects don’t stay in memory forever.\n",
        "●\tWithout it, memory usage would grow unnecessarily, eventually slowing or crashing the program.\n",
        "✅ 2. Improves Performance\n",
        "\n",
        "●\tEfficient memory use results in faster execution.\n",
        "\n",
        "●\tPython’s garbage collector and memory manager reduce the time and effort spent on manual allocation and cleanup.\n",
        "✅ 3. Supports Large Applications\n",
        "\n",
        "●\tBig projects (e.g., web apps, ML models) use a lot of memory.\n",
        "●\tGood memory management helps them stay stable and responsive over time.\n",
        "✅ 4. Avoids Crashes\n",
        "\n",
        "●\tUncontrolled memory usage can lead to MemoryError or system crashes.\n",
        "●\tPython’s memory manager helps avoid such fatal issues by freeing unused memory.\n",
        "✅ 5. Enhances Resource Efficiency\n",
        "\n",
        "●\tMakes sure memory is used only when needed, and released when it’s not — keeping the system resources free for other tasks.\n",
        "✅ 6. Safer Programs\n",
        "\n",
        "●\tHelps prevent bugs caused by uninitialized or corrupted memory.\n",
        "\n",
        "\n",
        "14.\tWhat is the role of try and except in exception handling?\n",
        "\n",
        "●\tAns:- 🔹 Role of try and except in Exception Handling (Python)\n",
        "●\tThe try and except blocks are core components of Python’s exception handling mechanism. They help your program handle errors gracefully without crashing.\n",
        "✅ 1. try Block\n",
        "\n",
        "●\tUsed to wrap risky code — the part of your program where an error might occur.\n",
        "\n",
        "try:\n",
        "x = int(input(\"Enter a number: \")) y = 10 / x\n",
        "\n",
        "\n",
        "\n",
        "\n",
        "\n",
        "●\tPython tries to run the code.\n",
        "●\tIf no error: it proceeds.\n",
        "●\tIf an error occurs: it jumps to the corresponding except block.\n",
        "✅ 2. except Block\n",
        "\n",
        "Used to catch and handle the error that was raised in the try block.\n",
        "\n",
        "except ZeroDivisionError:\n",
        "print(\"You cannot divide by zero!\")\n",
        "\n",
        "\n",
        "\n",
        "\n",
        "\n",
        "●\tIt prevents the program from crashing.\n",
        "●\tYou can have multiple except blocks for different error types.\n",
        "\n",
        "\n",
        "15.\tHow does Python's garbage collection system work?\n",
        "\n",
        "●\tAns- 🔹 How Python’s Garbage Collection System Works\n",
        "●\tPython’s garbage collection (GC) system automatically reclaims memory by removing objects that are no longer needed, helping your program run efficiently without memory leaks.\n",
        "✅ 1. Reference Counting (Primary Mechanism)\n",
        "\n",
        "●\tEvery object in Python has a reference count — the number of variables that point to it.\n",
        "●\tWhen an object’s reference count drops to zero, Python automatically deletes it.\n",
        "🧠 Example:\n",
        "\n",
        "a = [1, 2, 3]\t# Reference count = 1\n",
        "b = a\t# Reference count = 2\n",
        "del a\t# Reference count = 1\n",
        "del b\t# Reference count = 0 → Collected\n",
        "\n",
        "\n",
        "\n",
        "\n",
        "\n",
        "✅ 2. Garbage Collector for Cyclic References\n",
        "\n",
        "●\tSometimes, objects reference each other in a cycle, so their reference count never reaches 0 — like:\n",
        "a = {}\n",
        "b = {}\n",
        "a[\"b\"] = b\n",
        "b[\"a\"] = a\n",
        "\n",
        "\n",
        "\n",
        "\n",
        "\n",
        "✅ 3. Generational Garbage Collection\n",
        "\n",
        "Python divides objects into 3 generations:\n",
        "\n",
        "●\tGen 0: New objects\n",
        "●\tGen 1: Survived one GC cycle\n",
        "●\tGen 2: Long-lived objects\n",
        "✅ 4. Manual Control (Optional)\n",
        "\n",
        "●\tYou can interact with the GC using the gc module:\n",
        "\n",
        "import gc\n",
        "\n",
        "gc.collect()\t# Manually trigger garbage collection gc.disable()\t# Turn off automatic GC (not recommended)\n",
        "\n",
        "\n",
        "\n",
        "\n",
        "16.\tWhat is the purpose of the else block in exception handling?\n",
        "\n",
        "●\tAns: 🔹 Purpose of the else Block in Exception Handling (Python) The else block in Python's exception handling is used to run code only if no exceptions were raised in the try block.\n",
        "✅ Why Use else?\n",
        "\n",
        "●\tKeeps your error-handling (except) separate from your normal logic\n",
        "●\tMakes code cleaner and easier to understand\n",
        "🧠 Syntax:\n",
        "\n",
        "try:\n",
        "# Risky code except SomeException:\n",
        "# Handle the exception else:\n",
        "# Run only if no exception occurred\n",
        "\n",
        "\n",
        "\n",
        "\n",
        "\n",
        "🔁 Example\n",
        "\n",
        "try:\n",
        "num = int(input(\"Enter a number: \")) result = 10 / num\n",
        "\n",
        "except ValueError:\n",
        "print(\"Please enter a valid number.\") except ZeroDivisionError:\n",
        "print(\"Cannot divide by zero.\") else:\n",
        "print(f\"Result: {result}\")\n",
        "\n",
        "\n",
        "\n",
        "\n",
        "17.\tWhat are the common logging levels in Python?\n",
        "\n",
        "●\tAns:- 🔹 Common Logging Levels in Python Python’s logging module provides 5 standard logging levels to categorize the importance and severity of messages in your application.\n",
        "✅ 1. DEBUG (10)\n",
        "\n",
        "●\tLowest level.\n",
        "●\tUsed for detailed information, mostly useful during development.\n",
        "\n",
        "logging.debug(\"This is a debug message.\")\n",
        "\n",
        "\n",
        "\n",
        "✅ 2. INFO (20)\n",
        "\n",
        "●\tGeneral events that confirm the program is working as expected.\n",
        "\n",
        "logging.info(\"Process started successfully.\")\n",
        "\n",
        "\n",
        "\n",
        "✅ 3. WARNING (30)\n",
        "\n",
        "●\tIndicates something unexpected happened, but the program is still running.\n",
        "\n",
        "logging.warning(\"Low disk space.\")\n",
        "\n",
        "\n",
        "\n",
        "\n",
        "\n",
        "✅ 4. ERROR (40)\n",
        "\n",
        "●\tA serious problem that prevents a function from performing its task.\n",
        "\n",
        "logging.error(\"Failed to connect to database.\")\n",
        "\n",
        "\n",
        "\n",
        "✅ 5. CRITICAL (50)\n",
        "\n",
        "●\tA very serious error, possibly shutting down the application.\n",
        "\n",
        "logging.critical(\"System crash! Immediate attention needed.\")\n",
        "\n",
        "\n",
        "\n",
        "\n",
        "18.\tWhat is the difference between os.fork() and multiprocessing in Python?\n",
        "\n",
        "●\tAns:-🔹 Difference Between os.fork() and multiprocessing in Python\n",
        "●\tBoth os.fork() and the multiprocessing module are used to create new processes, but they differ significantly in usage, portability, and abstraction level.\n",
        "✅ 1. os.fork()\n",
        "\n",
        "●\t🧠 Low-level system call (UNIX/Linux only).\n",
        "●\tCreates a child process by duplicating the parent.\n",
        "●\tReturns:\n",
        "●\t0 to the child process,\n",
        "●\tPID of the child to the parent.\n",
        "\n",
        "import os\n",
        "\n",
        "pid = os.fork() if pid == 0:\n",
        "print(\"Child process\") else:\n",
        "print(\"Parent process\")\n",
        "\n",
        "\n",
        "\n",
        "\n",
        "\n",
        "⚠ Limitation:\n",
        "\n",
        "●\tNot available on Windows.\n",
        "●\tRequires manual handling of shared data, communication, and synchronization.\n",
        "✅ 2. multiprocessing Module\n",
        "\n",
        "●\t🧠 High-level API for cross-platform process-based parallelism.\n",
        "\n",
        "●\tSpawns independent Python interpreter processes.\n",
        "●\tSafer and easier to use.\n",
        "\n",
        "from multiprocessing import Process\n",
        "\n",
        "def worker():\n",
        "print(\"Worker process\")\n",
        "\n",
        "p = Process(target=worker) p.start()\n",
        "p.join()\n",
        "\n",
        "\n",
        "\n",
        "✅ Advantages:\n",
        "\n",
        "●\tPortable (works on Windows, macOS, Linux)\n",
        "●\tBuilt-in support for:\n",
        "●\tQueues\n",
        "●\tPipes\n",
        "●\tShared memory\n",
        "●\tSynchronization tools (like Lock, Event)\n",
        "\n",
        "\n",
        "19.\tWhat is the importance of closing a file in Python?\n",
        "\n",
        "●\tAns:- 🔹 Importance of Closing a File in Python When working with files in Python, it's essential to close them properly after you’re done. This ensures your program runs safely and efficiently.\n",
        "✅ 1. Frees System Resources\n",
        "\n",
        "●\tFiles consume system-level resources (like file handles).\n",
        "●\tClosing the file releases those resources back to the OS.\n",
        "\n",
        "file = open(\"data.txt\", \"r\") # ... use the file\n",
        "file.close()\t# Frees memory and file handle\n",
        "\n",
        "\n",
        "\n",
        "✅ 2. Saves Data Properly\n",
        "\n",
        "●\tIn write (w) or append (a) mode, changes may be buffered and not written immediately.\n",
        "●\tclose() ensures all buffered data is flushed to disk.\n",
        "\n",
        "file = open(\"log.txt\", \"w\")\n",
        "\n",
        "file.write(\"Important log\")\n",
        "file.close()\t# Ensures the data is actually saved\n",
        "\n",
        "\n",
        "\n",
        "✅ 3. Avoids Data Corruption or Loss\n",
        "\n",
        "●\tKeeping files open for too long, especially during writing, increases the risk of corruption if the program crashes.\n",
        "●\tClosing them reduces that risk.\n",
        "✅ 4. Prevents File Lock Issues\n",
        "\n",
        "●\tOn some systems, an open file may be locked (other programs or processes can't access it).\n",
        "●\tClosing the file removes that lock.\n",
        "\n",
        "\n",
        "20.\tWhat is the difference between file.read() and file.readline() in Python?\n",
        "\n",
        "●\tAns:- 🔹 Difference Between file.read() and file.readline() in Python Both file.read() and file.readline() are used to read content from a file, but they work differently in how much data they return.\n",
        "✅ 1. file.read()\n",
        "\n",
        "●\tReads the entire file content at once (or a specified number of bytes).\n",
        "●\tReturns a single string.\n",
        "\n",
        "with open(\"sample.txt\", \"r\") as file: content = file.read() print(content)\n",
        "\n",
        "\n",
        "\n",
        "\n",
        "✅ 2. file.readline()\n",
        "\n",
        "●\tReads only one line at a time from the file.\n",
        "●\tReturns a string including the newline \\n.\n",
        "\n",
        "with open(\"sample.txt\", \"r\") as file: line1 = file.readline()\n",
        "line2 = file.readline() print(line1, line2)\n",
        "\n",
        "\n",
        "21.\tWhat is the logging module in Python used for?\n",
        "\n",
        "●\tAns:- The logging module in Python is used to track events, errors, and status updates during a program’s execution — making it easier to debug, monitor, and maintain your code.\n",
        "✅ Key Uses of the logging Module:\n",
        "\n",
        "1.\tDebugging\n",
        "●\tLogs detailed info about the code’s behavior.\n",
        "\n",
        "logging.debug(\"Variable x has value %d\", x)\n",
        "\n",
        "\n",
        "\n",
        "\n",
        "\n",
        "2.\tError Tracking\n",
        "●\tCaptures errors and exceptions without stopping the program.\n",
        "\n",
        "logging.error(\"Something went wrong!\", exc_info=True)\n",
        "\n",
        "\n",
        "\n",
        "\n",
        "\n",
        "3.\tMonitoring\n",
        "●\tHelps track program status, execution flow, or performance over time.\n",
        "4.\tReporting\n",
        "●\tSaves logs to files for later analysis — useful for production environments.\n",
        "5.\tAlerts\n",
        "●\tUse higher-level logs (WARNING, ERROR, CRITICAL) to highlight serious issues.\n",
        "\n",
        "\n",
        "22.\tWhat is the os module in Python used for in file handling?\n",
        "\n",
        "●\tAns:- The os module in Python provides a way to interact with the operating system, especially for file and directory management — making it essential for file handling tasks.\n",
        "✅ Key Uses of os in File Handling:\n",
        "\n",
        "1.\tWorking with Files and Directories\n",
        "2.\tChecking File/Folder Existence\n",
        "3.\tCreating and Deleting Folders\n",
        "4.\tListing Directory Contents\n",
        "5.\tChanging the Current Directory\n",
        "6.\tGetting Current Working Directory\n",
        "\n",
        "\n",
        "23.\tWhat are the challenges associated with memory management in Python?\n",
        "\n",
        "●\tAns:- 🔹 Challenges Associated with Memory Management in Python Although Python automates memory management using its garbage collection and reference counting systems, there are still several challenges developers might face.\n",
        "⚠ 1. Memory Leaks\n",
        "\n",
        "●\tCaused when objects are unintentionally kept alive due to lingering references.\n",
        "●\tOften occurs with circular references or global/static variables.\n",
        "⚠ 2. Inefficient Memory Usage\n",
        "\n",
        "●\tPython's high-level abstractions (lists, dictionaries, objects) may use more memory than low-level languages like C.\n",
        "●\tData structures can become memory-heavy if not optimized.\n",
        "⚠ 3. Circular References\n",
        "\n",
        "●\tReference counting alone can’t handle them.\n",
        "●\tPython's garbage collector detects and collects these, but it's not always perfect or fast.\n",
        "⚠ 4. Unreleased Resources\n",
        "\n",
        "●\tObjects like file handles, DB connections, or sockets consume memory if not explicitly closed.\n",
        "⚠ 5. Global Variables\n",
        "\n",
        "●\tKeeping large objects in the global scope may delay garbage collection or increase memory footprint unnecessarily.\n",
        "⚠ 6. Misuse of C Extensions or Third-party Libraries\n",
        "\n",
        "●\tSome C-based libraries may not integrate well with Python’s garbage collector, leading to leaks.\n",
        "⚠ 7. Long-Lived Objects in Loops\n",
        "\n",
        "●\tCreating large objects repeatedly without clearing them or letting them expire can cause memory bloat over time\n",
        "\n",
        "\n",
        "24.\tHow do you raise an exception manually in Python?\n",
        "\n",
        "●\tAns:- 🔹 How to Raise an Exception Manually in Python In Python, you can manually raise an exception using the raise statement. This is helpful when you want to flag\n",
        "custom errors or enforce rules in your code.\n",
        "\n",
        "\n",
        "25.\tWhy is it important to use multithreading in certain applications?\n",
        "\n",
        "●\tAns:- Multithreading allows a program to run multiple tasks concurrently within the same process — which can significantly improve performance and responsiveness in the right scenarios.\n",
        "✅ Key Reasons to Use Multithreading:\n",
        "\n",
        "1.\tImproved Responsiveness\n",
        "●\tIn GUI applications, threads prevent the interface from freezing during long-running tasks.\n",
        "2.\tBetter Resource Utilization\n",
        "●\tThreads can share memory and data easily within the same process, making communication between tasks more efficient than multiprocessing.\n",
        "3.\tEfficient I/O-bound Task Handling\n",
        "●\tFor tasks like reading files, downloading data, or database access, multithreading allows the CPU to keep working while waiting for I/O.\n"
      ],
      "metadata": {
        "id": "cNTv797qyWqT"
      }
    },
    {
      "cell_type": "code",
      "source": [
        "#1 How can you open a file for writing in Python and write a string to it?\n",
        "\n",
        "with open(\"example.txt\", \"w\") as file:\n",
        "   file.write(\"Hello, this is a sample text.\")\n"
      ],
      "metadata": {
        "id": "qFc9P7YZzsPY"
      },
      "execution_count": 3,
      "outputs": []
    },
    {
      "cell_type": "code",
      "source": [
        "#2 Write a Python program to read the contents of a file and print each line.\n",
        "with open(\"example.txt\", \"r\") as file:\n",
        "  for line in file:\n",
        "    print(line)"
      ],
      "metadata": {
        "colab": {
          "base_uri": "https://localhost:8080/"
        },
        "id": "lYvkHdAE02ya",
        "outputId": "9d227616-c513-4e54-d29f-1b3fae44ffc7"
      },
      "execution_count": 10,
      "outputs": [
        {
          "output_type": "stream",
          "name": "stdout",
          "text": [
            "Hello, this is a sample text.\n"
          ]
        }
      ]
    },
    {
      "cell_type": "code",
      "source": [
        "#3 How would you handle a case where the file doesn't exist while trying to open it for reading?\n",
        "try:\n",
        "    with open(\"data.txt\", \"r\") as file:\n",
        "        print(file.read())\n",
        "except FileNotFoundError:\n",
        "    print(\"File not found. Creating a new one...\")\n",
        "    with open(\"data.txt\", \"w\") as file:\n",
        "        file.write(\"This is a newly created file.\")\n"
      ],
      "metadata": {
        "colab": {
          "base_uri": "https://localhost:8080/"
        },
        "id": "andECn9Z0-YQ",
        "outputId": "bf138368-9a88-4e55-e8a0-72caf9db99bf"
      },
      "execution_count": 12,
      "outputs": [
        {
          "output_type": "stream",
          "name": "stdout",
          "text": [
            "File not found. Creating a new one...\n"
          ]
        }
      ]
    },
    {
      "cell_type": "code",
      "source": [
        "#4 Write a Python script that reads from one file and writes its content to another file.\n",
        "\n",
        "try:\n",
        "    with open(\"source.txt\", \"r\") as src:\n",
        "        content = src.read()\n",
        "\n",
        "    with open(\"destination.txt\", \"w\") as dest:\n",
        "        dest.write(content)\n",
        "\n",
        "    print(\"File copied successfully!\")\n",
        "\n",
        "except FileNotFoundError:\n",
        "    print(\"Source file not found.\")\n",
        "\n",
        "except Exception as e:\n",
        "    print(\"An error occurred:\", e)\n"
      ],
      "metadata": {
        "colab": {
          "base_uri": "https://localhost:8080/"
        },
        "id": "P1SGFVEm1yNk",
        "outputId": "5b277b6e-bca7-4126-8200-e3210ae55c17"
      },
      "execution_count": 14,
      "outputs": [
        {
          "output_type": "stream",
          "name": "stdout",
          "text": [
            "Source file not found.\n"
          ]
        }
      ]
    },
    {
      "cell_type": "code",
      "source": [
        "#5 How would you catch and handle division by zero error in Python?\n",
        "\n",
        "try:\n",
        "    a = int(input(\"Enter numerator: \"))\n",
        "    b = int(input(\"Enter denominator: \"))\n",
        "    result = a / b\n",
        "    print(\"Result:\", result)\n",
        "\n",
        "except ZeroDivisionError:\n",
        "    print(\"Error: Denominator cannot be zero.\")\n",
        "\n",
        "except ValueError:\n",
        "    print(\"Error: Please enter valid numbers.\")\n"
      ],
      "metadata": {
        "colab": {
          "base_uri": "https://localhost:8080/"
        },
        "id": "Os14kjoM2Fcj",
        "outputId": "3f63297a-d60b-4634-d383-32436c129dd6"
      },
      "execution_count": 16,
      "outputs": [
        {
          "output_type": "stream",
          "name": "stdout",
          "text": [
            "Enter numerator: 40\n",
            "Enter denominator: 20\n",
            "Result: 2.0\n"
          ]
        }
      ]
    },
    {
      "cell_type": "code",
      "source": [
        "#6 Write a Python program that logs an error message to a log file when a division by zero exception occurs.\n",
        "import logging\n",
        "\n",
        "# Configure logging to write to a file\n",
        "logging.basicConfig(\n",
        "    filename=\"error_log.txt\",     # Log file name\n",
        "    level=logging.ERROR,          # Log only errors and above\n",
        "    format=\"%(asctime)s - %(levelname)s - %(message)s\"\n",
        ")\n",
        "\n",
        "# Division function with error handling\n",
        "def divide(a, b):\n",
        "    try:\n",
        "        return a / b\n",
        "    except ZeroDivisionError as e:\n",
        "        logging.error(\"Division by zero attempted: %s\", e)\n",
        "        print(\"Error: Cannot divide by zero.\")\n",
        "\n",
        "# Test the function\n",
        "result = divide(10, 0)\n",
        "\n"
      ],
      "metadata": {
        "colab": {
          "base_uri": "https://localhost:8080/"
        },
        "id": "t9FC0Dj82XiB",
        "outputId": "3b399c89-c112-4ec0-b5d7-23f3c2feb574"
      },
      "execution_count": 18,
      "outputs": [
        {
          "output_type": "stream",
          "name": "stderr",
          "text": [
            "ERROR:root:Division by zero attempted: division by zero\n"
          ]
        },
        {
          "output_type": "stream",
          "name": "stdout",
          "text": [
            "Error: Cannot divide by zero.\n"
          ]
        }
      ]
    },
    {
      "cell_type": "code",
      "source": [
        "#7 How do you log information at different levels (INFO, ERROR, WARNING) in Python using the logging module?\n",
        "import logging\n",
        "\n",
        "# Configure the logging system\n",
        "logging.basicConfig(\n",
        "    filename='app.log',                 # Log file name\n",
        "    level=logging.DEBUG,               # Set the lowest log level to capture everything\n",
        "    format='%(asctime)s - %(levelname)s - %(message)s'\n",
        ")\n",
        "\n",
        "# Log messages at different levels\n",
        "logging.debug(\"This is a DEBUG message (for diagnosing problems).\")\n",
        "logging.info(\"This is an INFO message (for general events).\")\n",
        "logging.warning(\"This is a WARNING message (something unexpected happened).\")\n",
        "logging.error(\"This is an ERROR message (a serious problem occurred).\")\n",
        "logging.critical(\"This is a CRITICAL message (very serious error).\")\n"
      ],
      "metadata": {
        "colab": {
          "base_uri": "https://localhost:8080/"
        },
        "id": "EqnUrB7i2zqQ",
        "outputId": "134edc91-656c-4d42-cc4d-fc02844ecd5e"
      },
      "execution_count": 21,
      "outputs": [
        {
          "output_type": "stream",
          "name": "stderr",
          "text": [
            "WARNING:root:This is a WARNING message (something unexpected happened).\n",
            "ERROR:root:This is an ERROR message (a serious problem occurred).\n",
            "CRITICAL:root:This is a CRITICAL message (very serious error).\n"
          ]
        }
      ]
    },
    {
      "cell_type": "code",
      "source": [
        "#8 Write a program to handle a file opening error using exception handling\n",
        "\n",
        "try:\n",
        "with open(\"myfile.txt\", \"r\") as file: content = file.read() print(\"File content:\") print(content)\n",
        "\n",
        "except FileNotFoundError:\n",
        "print(\"Error: The file 'myfile.txt' was not found.\")\n",
        "\n",
        "except IOError:\n",
        "print(\"Error: An I/O error occurred while trying to read the file.\")\n",
        "\n"
      ],
      "metadata": {
        "colab": {
          "base_uri": "https://localhost:8080/",
          "height": 106
        },
        "id": "aDE_9zyE3AlA",
        "outputId": "ff051329-32f8-4291-a5b0-b9dc5dab0943"
      },
      "execution_count": 22,
      "outputs": [
        {
          "output_type": "error",
          "ename": "IndentationError",
          "evalue": "expected an indented block after 'try' statement on line 3 (<ipython-input-22-33fbe62e9777>, line 4)",
          "traceback": [
            "\u001b[0;36m  File \u001b[0;32m\"<ipython-input-22-33fbe62e9777>\"\u001b[0;36m, line \u001b[0;32m4\u001b[0m\n\u001b[0;31m    with open(\"myfile.txt\", \"r\") as file: content = file.read() print(\"File content:\") print(content)\u001b[0m\n\u001b[0m    ^\u001b[0m\n\u001b[0;31mIndentationError\u001b[0m\u001b[0;31m:\u001b[0m expected an indented block after 'try' statement on line 3\n"
          ]
        }
      ]
    },
    {
      "cell_type": "code",
      "source": [
        "#8 Write a program to handle a file opening error using exception handling\n",
        "\n",
        "try:\n",
        "    with open(\"myfile.txt\", \"r\") as file:\n",
        "        content = file.read()\n",
        "        print(\"File content:\")\n",
        "        print(content)\n",
        "\n",
        "except FileNotFoundError:\n",
        "    print(\"Error: The file 'myfile.txt' was not found.\")\n",
        "\n",
        "except IOError:\n",
        "    print(\"Error: An I/O error occurred while trying to read the file.\")\n"
      ],
      "metadata": {
        "colab": {
          "base_uri": "https://localhost:8080/"
        },
        "id": "feFKB8Zo3g9_",
        "outputId": "0e3588da-46cf-4087-bba3-0a2049fb804f"
      },
      "execution_count": 23,
      "outputs": [
        {
          "output_type": "stream",
          "name": "stdout",
          "text": [
            "Error: The file 'myfile.txt' was not found.\n"
          ]
        }
      ]
    },
    {
      "cell_type": "code",
      "source": [
        "#9 How can you read a file line by line and store its content in a list in Python?\n",
        "lines = []\n",
        "\n",
        "try:\n",
        "    with open(\"sample.txt\", \"r\") as file:\n",
        "        lines = file.readlines()  # Reads all lines into a list\n",
        "\n",
        "    print(\"File content as a list:\")\n",
        "    print(lines)\n",
        "\n",
        "except FileNotFoundError:\n",
        "    print(\"Error: File not found.\")\n"
      ],
      "metadata": {
        "colab": {
          "base_uri": "https://localhost:8080/"
        },
        "id": "9kNsZeho3pB0",
        "outputId": "6a785972-9c7e-4cfc-da12-0e1ff481fa7c"
      },
      "execution_count": 25,
      "outputs": [
        {
          "output_type": "stream",
          "name": "stdout",
          "text": [
            "Error: File not found.\n"
          ]
        }
      ]
    },
    {
      "cell_type": "code",
      "source": [
        "#10 How can you append data to an existing file in Python?\n",
        "\n",
        "with open(\"example.txt\", \"a+\") as file:\n",
        "    file.write(\"\\nAnother appended line.\")  # Append data to the file\n",
        "    file.seek(0)  # Move to the beginning of the file to read its content\n",
        "    print(file.read())  # Print the updated file content\n",
        "\n"
      ],
      "metadata": {
        "colab": {
          "base_uri": "https://localhost:8080/"
        },
        "id": "HK0HJ9Nc5n3u",
        "outputId": "9eb912e0-b506-4b4c-db74-ef2fa2245d69"
      },
      "execution_count": 40,
      "outputs": [
        {
          "output_type": "stream",
          "name": "stdout",
          "text": [
            "Hello, this is a sample text.\n",
            "Another appended line.\n",
            "Another appended line.\n",
            "Another appended line.\n",
            "Another appended line.\n",
            "Another appended line.\n",
            "Another appended line.\n",
            "Another appended line.\n",
            "Another appended line.\n",
            "Another appended line Example.\n",
            "Another appended line Example.\n",
            "Another appended line.\n"
          ]
        }
      ]
    },
    {
      "cell_type": "code",
      "source": [
        "\n",
        "#11 Write a Python program that uses a try-except block to handle an error when attempting to access a dictionary key that doesn't exist?\n",
        "# Define a sample dictionary\n",
        "student = {\n",
        "    \"name\": \"Alice\",\n",
        "    \"age\": 20\n",
        "}\n",
        "\n",
        "# Attempt to access a key that may not exist\n",
        "try:\n",
        "    grade = student[\"grade\"]  # This key doesn't exist\n",
        "    print(\"Grade:\", grade)\n",
        "\n",
        "except KeyError:\n",
        "    print(\"Error: 'grade' key not found in the dictionary.\")\n",
        "\n"
      ],
      "metadata": {
        "colab": {
          "base_uri": "https://localhost:8080/"
        },
        "id": "oCWQzuie5v5z",
        "outputId": "a9ebbdf5-6962-4d3c-a220-1b16eb4118e2"
      },
      "execution_count": 43,
      "outputs": [
        {
          "output_type": "stream",
          "name": "stdout",
          "text": [
            "Error: 'grade' key not found in the dictionary.\n"
          ]
        }
      ]
    },
    {
      "cell_type": "code",
      "source": [
        "#12 Write a program that demonstrates using multiple except blocks to handle different types of exceptions?\n",
        "try:\n",
        "    num = int(input(\"Enter a number: \"))\n",
        "    result = 10 / num\n",
        "    print(\"Result:\", result)\n",
        "\n",
        "    my_list = [1, 2, 3]\n",
        "    print(\"Fourth item:\", my_list[3])  # This will raise IndexError\n",
        "\n",
        "except ValueError:\n",
        "    print(\"Error: Invalid input. Please enter a valid number.\")\n",
        "\n",
        "except ZeroDivisionError:\n",
        "    print(\"Error: Cannot divide by zero.\")\n",
        "\n",
        "except IndexError:\n",
        "    print(\"Error: List index out of range.\")\n",
        "\n",
        "except Exception as e:\n",
        "    print(\"An unexpected error occurred:\", e)\n",
        "\n",
        "\n"
      ],
      "metadata": {
        "colab": {
          "base_uri": "https://localhost:8080/"
        },
        "id": "i833HilQ5-k5",
        "outputId": "d41890fa-9892-48d5-e46f-88a179eff58b"
      },
      "execution_count": 44,
      "outputs": [
        {
          "output_type": "stream",
          "name": "stdout",
          "text": [
            "Enter a number: 20\n",
            "Result: 0.5\n",
            "Error: List index out of range.\n"
          ]
        }
      ]
    },
    {
      "cell_type": "code",
      "source": [
        "#13 How would you check if a file exists before attempting to read it in Python?\n",
        "import os\n",
        "\n",
        "file_path = \"example.txt\"\n",
        "\n",
        "# Check if the file exists\n",
        "if os.path.exists(file_path):\n",
        "    with open(file_path, \"r\") as file:\n",
        "        content = file.read()\n",
        "    print(\"File content:\")\n",
        "    print(content)\n",
        "else:\n",
        "    print(f\"Error: The file '{file_path}' does not exist.\")\n",
        "\n"
      ],
      "metadata": {
        "colab": {
          "base_uri": "https://localhost:8080/"
        },
        "id": "wbPtChoy6aas",
        "outputId": "d02484c1-6712-426a-e21a-6d00b109f163"
      },
      "execution_count": 46,
      "outputs": [
        {
          "output_type": "stream",
          "name": "stdout",
          "text": [
            "File content:\n",
            "Hello, this is a sample text.\n",
            "Another appended line.\n",
            "Another appended line.\n",
            "Another appended line.\n",
            "Another appended line.\n",
            "Another appended line.\n",
            "Another appended line.\n",
            "Another appended line.\n",
            "Another appended line.\n",
            "Another appended line Example.\n",
            "Another appended line Example.\n",
            "Another appended line.\n"
          ]
        }
      ]
    },
    {
      "cell_type": "code",
      "source": [
        "#14 Write a program that uses the logging module to log both informational and error messages?\n",
        "import logging\n",
        "\n",
        "# Configure logging to write messages to a file\n",
        "logging.basicConfig(\n",
        "    filename=\"app.log\",  # Log file name\n",
        "    level=logging.DEBUG,  # Capture DEBUG and higher level logs\n",
        "    format=\"%(asctime)s - %(levelname)s - %(message)s\"\n",
        ")\n",
        "\n",
        "# Log an informational message\n",
        "logging.info(\"This is an informational message.\")\n",
        "\n",
        "# Simulating an error scenario\n",
        "try:\n",
        "    result = 10 / 0  # This will raise a ZeroDivisionError\n",
        "except ZeroDivisionError as e:\n",
        "    logging.error(f\"Error: {e}\")\n",
        "\n"
      ],
      "metadata": {
        "colab": {
          "base_uri": "https://localhost:8080/"
        },
        "id": "TgrZ2X2W7C_r",
        "outputId": "b81c9dd9-a1dd-4aa3-b7a4-e19af5f81315"
      },
      "execution_count": 47,
      "outputs": [
        {
          "output_type": "stream",
          "name": "stderr",
          "text": [
            "ERROR:root:Error: division by zero\n"
          ]
        }
      ]
    },
    {
      "cell_type": "code",
      "source": [
        "#15 Write a Python program that prints the content of a file and handles the case when the file is empty?\n",
        "# Function to read and print file content\n",
        "def read_file(file_path):\n",
        "    try:\n",
        "        with open(file_path, \"r\") as file:\n",
        "            content = file.read()\n",
        "\n",
        "        if content:  # Check if file is not empty\n",
        "            print(\"File Content:\")\n",
        "            print(content)\n",
        "        else:\n",
        "            print(\"The file is empty.\")\n",
        "\n",
        "    except FileNotFoundError:\n",
        "        print(f\"Error: The file '{file_path}' was not found.\")\n",
        "    except Exception as e:\n",
        "        print(f\"An unexpected error occurred: {e}\")\n",
        "\n",
        "# Specify the file path\n",
        "file_path = \"example.txt\"\n",
        "read_file(file_path)\n",
        "\n",
        "\n"
      ],
      "metadata": {
        "colab": {
          "base_uri": "https://localhost:8080/"
        },
        "id": "ZiV_CBLk7VYs",
        "outputId": "a80ea5dd-2670-4464-d198-08388782a7fd"
      },
      "execution_count": 48,
      "outputs": [
        {
          "output_type": "stream",
          "name": "stdout",
          "text": [
            "File Content:\n",
            "Hello, this is a sample text.\n",
            "Another appended line.\n",
            "Another appended line.\n",
            "Another appended line.\n",
            "Another appended line.\n",
            "Another appended line.\n",
            "Another appended line.\n",
            "Another appended line.\n",
            "Another appended line.\n",
            "Another appended line Example.\n",
            "Another appended line Example.\n",
            "Another appended line.\n"
          ]
        }
      ]
    },
    {
      "cell_type": "code",
      "source": [
        "16 Demonstrate how to use memory profiling to check the memory usage of a small program?\n",
        "\n",
        "●\tAns:- Step 1: Install the memory_profiler package\n",
        "\n",
        "If you don’t have the memory_profiler package installed, you can install it via pip:\n",
        "\n",
        "pip install memory-profiler\n",
        "\n",
        "\n",
        "\n",
        "\n",
        "\n",
        "Step 2: Write a simple program to profile\n",
        "\n",
        "Let’s write a small Python program that calculates the sum of squares of numbers in a list:\n",
        "from memory_profiler import profile @profile\n",
        "def sum_of_squares(): result = []\n",
        "for i in range(1000000): result.append(i ** 2)\n",
        "return sum(result)\n",
        "\n",
        "if   name\t == \"  main  \": sum_of_squares()\n",
        "\n",
        "\n",
        "\n",
        "\n",
        "\n",
        "Step 3: Run the program with memory profiling\n",
        "\n",
        "To see memory usage, run the script with the following command in the terminal:\n",
        "\n",
        "python -m memory_profiler your_script.py\n",
        "\n",
        "Step 4: Output analysis\n",
        "\n",
        "You will see output that looks like this:\n",
        "\n",
        "Line #\tMem usage\tIncrement\tLine Contents\n",
        "================================================\n",
        "3\t12.3\tMiB\t12.3\tMiB\t@profile\n",
        "4\t12.4\tMiB\t0.1\tMiB\tdef sum_of_squares():\n",
        "5\t12.4\tMiB\t0.0\tMiB\tresult = []\n",
        "6\t12.4\tMiB\t0.0\tMiB\tfor i in range(1000000):\n",
        "7\t38.0\tMiB\t25.6\tMiB\tresult.append(i ** 2)\n",
        "8\t38.0\tMiB\t0.0\tMiB\treturn sum(result)\n",
        "\n",
        "\n"
      ],
      "metadata": {
        "id": "94EpZ5yw7sXO"
      },
      "execution_count": null,
      "outputs": []
    },
    {
      "cell_type": "code",
      "source": [
        "#17. Write a Python program to create and write a list of numbers to a file, one number per line?\n",
        "# List of numbers\n",
        "numbers = [1, 2, 3, 4, 5, 6, 7, 8, 9, 10]\n",
        "\n",
        "# Open the file in write mode ('w')\n",
        "with open('numbers.txt', 'w') as file:\n",
        "    # Iterate through the list and write each number to the file\n",
        "    for number in numbers:\n",
        "        file.write(f\"{number}\\n\")\n",
        "\n",
        "print(\"Numbers have been written to 'numbers.txt' successfully.\")\n"
      ],
      "metadata": {
        "colab": {
          "base_uri": "https://localhost:8080/"
        },
        "id": "O6v2gvhN95NR",
        "outputId": "f0adb73b-c124-42df-9a0d-4be7f64a64a5"
      },
      "execution_count": 53,
      "outputs": [
        {
          "output_type": "stream",
          "name": "stdout",
          "text": [
            "Numbers have been written to 'numbers.txt' successfully.\n"
          ]
        }
      ]
    },
    {
      "cell_type": "code",
      "source": [],
      "metadata": {
        "id": "z9wEWfu_-GZ3"
      },
      "execution_count": null,
      "outputs": []
    }
  ]
}